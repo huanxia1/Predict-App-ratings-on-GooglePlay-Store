{
 "cells": [
  {
   "cell_type": "code",
   "execution_count": 61,
   "metadata": {},
   "outputs": [
    {
     "name": "stdout",
     "output_type": "stream",
     "text": [
      "                                                 App        Category  Rating  \\\n",
      "0     Photo Editor & Candy Camera & Grid & ScrapBook  ART_AND_DESIGN     4.1   \n",
      "1                                Coloring book moana  ART_AND_DESIGN     3.9   \n",
      "2  U Launcher Lite – FREE Live Cool Themes, Hide ...  ART_AND_DESIGN     4.7   \n",
      "3                              Sketch - Draw & Paint  ART_AND_DESIGN     4.5   \n",
      "4              Pixel Draw - Number Art Coloring Book  ART_AND_DESIGN     4.3   \n",
      "\n",
      "  Reviews  Size     Installs  Type Price Content Rating  \\\n",
      "0     159   19M      10,000+  Free     0       Everyone   \n",
      "1     967   14M     500,000+  Free     0       Everyone   \n",
      "2   87510  8.7M   5,000,000+  Free     0       Everyone   \n",
      "3  215644   25M  50,000,000+  Free     0           Teen   \n",
      "4     967  2.8M     100,000+  Free     0       Everyone   \n",
      "\n",
      "                      Genres      Last Updated         Current Ver  \\\n",
      "0               Art & Design   January 7, 2018               1.0.0   \n",
      "1  Art & Design;Pretend Play  January 15, 2018               2.0.0   \n",
      "2               Art & Design    August 1, 2018               1.2.4   \n",
      "3               Art & Design      June 8, 2018  Varies with device   \n",
      "4    Art & Design;Creativity     June 20, 2018                 1.1   \n",
      "\n",
      "    Android Ver  \n",
      "0  4.0.3 and up  \n",
      "1  4.0.3 and up  \n",
      "2  4.0.3 and up  \n",
      "3    4.2 and up  \n",
      "4    4.4 and up  \n",
      "(10841, 13)\n",
      "Index(['App', 'Category', 'Rating', 'Reviews', 'Size', 'Installs', 'Type',\n",
      "       'Price', 'Content Rating', 'Genres', 'Last Updated', 'Current Ver',\n",
      "       'Android Ver'],\n",
      "      dtype='object')\n",
      "<class 'pandas.core.frame.DataFrame'>\n",
      "RangeIndex: 10841 entries, 0 to 10840\n",
      "Data columns (total 13 columns):\n",
      "App               10841 non-null object\n",
      "Category          10841 non-null object\n",
      "Rating            9367 non-null float64\n",
      "Reviews           10841 non-null object\n",
      "Size              10841 non-null object\n",
      "Installs          10841 non-null object\n",
      "Type              10840 non-null object\n",
      "Price             10841 non-null object\n",
      "Content Rating    10840 non-null object\n",
      "Genres            10841 non-null object\n",
      "Last Updated      10841 non-null object\n",
      "Current Ver       10833 non-null object\n",
      "Android Ver       10838 non-null object\n",
      "dtypes: float64(1), object(12)\n",
      "memory usage: 1.1+ MB\n",
      "None\n"
     ]
    }
   ],
   "source": [
    "import pandas as pd\n",
    "app=pd.read_csv('googleplaystore.csv')\n",
    "print(app.head())\n",
    "print(app.shape)\n",
    "print(app.columns)\n",
    "print(app.info())"
   ]
  },
  {
   "cell_type": "markdown",
   "metadata": {},
   "source": [
    "It seems that there are missing values in many of the columns of the first dataset. The columns include rating, type, \n",
    "content rating, current ver and android ver."
   ]
  },
  {
   "cell_type": "code",
   "execution_count": 62,
   "metadata": {},
   "outputs": [
    {
     "name": "stdout",
     "output_type": "stream",
     "text": [
      "                     App                                  Translated_Review  \\\n",
      "0  10 Best Foods for You  I like eat delicious food. That's I'm cooking ...   \n",
      "1  10 Best Foods for You    This help eating healthy exercise regular basis   \n",
      "2  10 Best Foods for You                                                NaN   \n",
      "3  10 Best Foods for You         Works great especially going grocery store   \n",
      "4  10 Best Foods for You                                       Best idea us   \n",
      "\n",
      "  Sentiment  Sentiment_Polarity  Sentiment_Subjectivity  \n",
      "0  Positive                1.00                0.533333  \n",
      "1  Positive                0.25                0.288462  \n",
      "2       NaN                 NaN                     NaN  \n",
      "3  Positive                0.40                0.875000  \n",
      "4  Positive                1.00                0.300000  \n",
      "(64295, 5)\n",
      "Index(['App', 'Translated_Review', 'Sentiment', 'Sentiment_Polarity',\n",
      "       'Sentiment_Subjectivity'],\n",
      "      dtype='object')\n",
      "<class 'pandas.core.frame.DataFrame'>\n",
      "RangeIndex: 64295 entries, 0 to 64294\n",
      "Data columns (total 5 columns):\n",
      "App                       64295 non-null object\n",
      "Translated_Review         37427 non-null object\n",
      "Sentiment                 37432 non-null object\n",
      "Sentiment_Polarity        37432 non-null float64\n",
      "Sentiment_Subjectivity    37432 non-null float64\n",
      "dtypes: float64(2), object(3)\n",
      "memory usage: 2.5+ MB\n",
      "None\n",
      "10841\n"
     ]
    }
   ],
   "source": [
    "review=pd.read_csv('googleplaystore_user_reviews.csv')\n",
    "print(review.head())\n",
    "print(review.shape)\n",
    "print(review.columns)\n",
    "print(review.info())\n",
    "print(len(app.Rating))"
   ]
  },
  {
   "cell_type": "markdown",
   "metadata": {},
   "source": [
    "Missing values are also observed in the second dataset, in columns: Translated_Review, Sentiment, Sentiment_Polarity\n",
    "and Sentiment_Subjectivity."
   ]
  },
  {
   "cell_type": "code",
   "execution_count": 63,
   "metadata": {},
   "outputs": [
    {
     "name": "stdout",
     "output_type": "stream",
     "text": [
      "                   App        Category  Rating Reviews Size  Installs  Type  \\\n",
      "0  Coloring book moana  ART_AND_DESIGN     3.9     967  14M  500,000+  Free   \n",
      "1  Coloring book moana  ART_AND_DESIGN     3.9     967  14M  500,000+  Free   \n",
      "2  Coloring book moana  ART_AND_DESIGN     3.9     967  14M  500,000+  Free   \n",
      "3  Coloring book moana  ART_AND_DESIGN     3.9     967  14M  500,000+  Free   \n",
      "4  Coloring book moana  ART_AND_DESIGN     3.9     967  14M  500,000+  Free   \n",
      "\n",
      "  Price Content Rating                     Genres      Last Updated  \\\n",
      "0     0       Everyone  Art & Design;Pretend Play  January 15, 2018   \n",
      "1     0       Everyone  Art & Design;Pretend Play  January 15, 2018   \n",
      "2     0       Everyone  Art & Design;Pretend Play  January 15, 2018   \n",
      "3     0       Everyone  Art & Design;Pretend Play  January 15, 2018   \n",
      "4     0       Everyone  Art & Design;Pretend Play  January 15, 2018   \n",
      "\n",
      "  Current Ver   Android Ver  \\\n",
      "0       2.0.0  4.0.3 and up   \n",
      "1       2.0.0  4.0.3 and up   \n",
      "2       2.0.0  4.0.3 and up   \n",
      "3       2.0.0  4.0.3 and up   \n",
      "4       2.0.0  4.0.3 and up   \n",
      "\n",
      "                                   Translated_Review Sentiment  \\\n",
      "0  A kid's excessive ads. The types ads allowed a...  Negative   \n",
      "1                                         It bad >:(  Negative   \n",
      "2                                               like   Neutral   \n",
      "3                                                NaN       NaN   \n",
      "4                           I love colors inspyering  Positive   \n",
      "\n",
      "   Sentiment_Polarity  Sentiment_Subjectivity  \n",
      "0              -0.250                1.000000  \n",
      "1              -0.725                0.833333  \n",
      "2               0.000                0.000000  \n",
      "3                 NaN                     NaN  \n",
      "4               0.500                0.600000  \n",
      "<class 'pandas.core.frame.DataFrame'>\n",
      "Int64Index: 122662 entries, 0 to 122661\n",
      "Data columns (total 17 columns):\n",
      "App                       122662 non-null object\n",
      "Category                  122662 non-null object\n",
      "Rating                    122622 non-null float64\n",
      "Reviews                   122662 non-null object\n",
      "Size                      122662 non-null object\n",
      "Installs                  122662 non-null object\n",
      "Type                      122662 non-null object\n",
      "Price                     122662 non-null object\n",
      "Content Rating            122662 non-null object\n",
      "Genres                    122662 non-null object\n",
      "Last Updated              122662 non-null object\n",
      "Current Ver               122662 non-null object\n",
      "Android Ver               122662 non-null object\n",
      "Translated_Review         72605 non-null object\n",
      "Sentiment                 72615 non-null object\n",
      "Sentiment_Polarity        72615 non-null float64\n",
      "Sentiment_Subjectivity    72615 non-null float64\n",
      "dtypes: float64(3), object(14)\n",
      "memory usage: 16.8+ MB\n",
      "None\n"
     ]
    }
   ],
   "source": [
    "## Two datasets are merged on shared column App. The merged column is named as merge.\n",
    "## This thrid dataset will be stored as a backup for future use, if needed.\n",
    "merge=pd.merge(app, review, on='App')\n",
    "print(merge.head())\n",
    "print(merge.info())"
   ]
  },
  {
   "cell_type": "code",
   "execution_count": 64,
   "metadata": {},
   "outputs": [
    {
     "name": "stdout",
     "output_type": "stream",
     "text": [
      "<class 'pandas.core.frame.DataFrame'>\n",
      "Int64Index: 9360 entries, 0 to 10840\n",
      "Data columns (total 13 columns):\n",
      "App               9360 non-null object\n",
      "Category          9360 non-null object\n",
      "Rating            9360 non-null float64\n",
      "Reviews           9360 non-null object\n",
      "Size              9360 non-null object\n",
      "Installs          9360 non-null object\n",
      "Type              9360 non-null object\n",
      "Price             9360 non-null object\n",
      "Content Rating    9360 non-null object\n",
      "Genres            9360 non-null object\n",
      "Last Updated      9360 non-null object\n",
      "Current Ver       9360 non-null object\n",
      "Android Ver       9360 non-null object\n",
      "dtypes: float64(1), object(12)\n",
      "memory usage: 1023.8+ KB\n",
      "None\n",
      "<class 'pandas.core.frame.DataFrame'>\n",
      "Int64Index: 37427 entries, 0 to 64230\n",
      "Data columns (total 5 columns):\n",
      "App                       37427 non-null object\n",
      "Translated_Review         37427 non-null object\n",
      "Sentiment                 37427 non-null object\n",
      "Sentiment_Polarity        37427 non-null float64\n",
      "Sentiment_Subjectivity    37427 non-null float64\n",
      "dtypes: float64(2), object(3)\n",
      "memory usage: 1.7+ MB\n",
      "None\n"
     ]
    }
   ],
   "source": [
    "## For app dataset, rows with missing value (NaN) will be removed and for review dataset, rows with missing values in \n",
    "## setiment will be removed. \n",
    "new_app=app.dropna(axis=0, how='any')\n",
    "new_rev=review.dropna(axis=0, how='any')\n",
    "print(new_app.info())\n",
    "print(new_rev.info())"
   ]
  },
  {
   "cell_type": "code",
   "execution_count": 65,
   "metadata": {},
   "outputs": [],
   "source": [
    "## Assert that there is no missing value:\n",
    "assert pd.notnull(new_app).all().all()\n",
    "assert pd.notnull(new_rev).all().all()"
   ]
  },
  {
   "cell_type": "code",
   "execution_count": 66,
   "metadata": {},
   "outputs": [],
   "source": [
    "## Assert that all ratings in new_app are above 0:\n",
    "assert (new_app['Rating']>0).all().all()"
   ]
  },
  {
   "cell_type": "markdown",
   "metadata": {},
   "source": [
    "Now both original datasets have been cleaned up to remove missing values and the revised datasets are good to use for \n",
    "analysis.\n",
    "\n",
    "The next step is to check outliers of Ratings, Sentiment_Polarity and Sentiment_Subjectivity from App and Review datasets.First, we want to identify what kinds of distribution each of these three data follows.\n",
    "\n",
    "Begin with Rating data."
   ]
  },
  {
   "cell_type": "code",
   "execution_count": 67,
   "metadata": {},
   "outputs": [
    {
     "data": {
      "image/png": "[encoded data removed]",
      "text/plain": [
       "<Figure size 1080x1080 with 6 Axes>"
      ]
     },
     "metadata": {
      "needs_background": "light"
     },
     "output_type": "display_data"
    }
   ],
   "source": [
    "import matplotlib.pyplot as plt\n",
    "f, axs = plt.subplots(3,2,figsize=(15,15))\n",
    "plt.subplot(3, 2, 1)\n",
    "new_app['Rating'].plot(kind='hist')\n",
    "plt.subplot(3, 2, 2)\n",
    "new_app['Rating'].plot(kind='box')\n",
    "plt.subplot(3, 2, 3)\n",
    "new_rev['Sentiment_Polarity'].plot(kind='hist')\n",
    "plt.subplot(3, 2, 4)\n",
    "new_rev['Sentiment_Polarity'].plot(kind='box')\n",
    "plt.subplot(3, 2, 5)\n",
    "new_rev['Sentiment_Subjectivity'].plot(kind='hist')\n",
    "plt.subplot(3, 2, 6)\n",
    "new_rev['Sentiment_Subjectivity'].plot(kind='box')\n",
    "\n",
    "plt.show()"
   ]
  },
  {
   "cell_type": "markdown",
   "metadata": {},
   "source": [
    "It looks like the Rating data is not normally distributed. Instead, the Rating data seems to be left-skewed. We will try to log-transform the data into log(Rating)."
   ]
  },
  {
   "cell_type": "code",
   "execution_count": 68,
   "metadata": {},
   "outputs": [
    {
     "data": {
      "text/plain": [
       "<matplotlib.axes._subplots.AxesSubplot at 0xa5980b8>"
      ]
     },
     "execution_count": 68,
     "metadata": {},
     "output_type": "execute_result"
    },
    {
     "data": {
      "image/png": "[encoded data removed]",
      "text/plain": [
       "<Figure size 432x288 with 1 Axes>"
      ]
     },
     "metadata": {
      "needs_background": "light"
     },
     "output_type": "display_data"
    }
   ],
   "source": [
    "import numpy as np\n",
    "new_app['Rating'].apply(np.log).hist()"
   ]
  },
  {
   "cell_type": "markdown",
   "metadata": {},
   "source": [
    "It turned out the log transformation is not a solution to Rating data. Now, let's try exponential transformation on Rating data:"
   ]
  },
  {
   "cell_type": "code",
   "execution_count": 69,
   "metadata": {},
   "outputs": [
    {
     "data": {
      "text/plain": [
       "<matplotlib.axes._subplots.AxesSubplot at 0xa024240>"
      ]
     },
     "execution_count": 69,
     "metadata": {},
     "output_type": "execute_result"
    },
    {
     "data": {
      "image/png": "[encoded data removed]",
      "text/plain": [
       "<Figure size 432x288 with 1 Axes>"
      ]
     },
     "metadata": {
      "needs_background": "light"
     },
     "output_type": "display_data"
    }
   ],
   "source": [
    "new_app['Rating'].apply(np.exp).hist()"
   ]
  },
  {
   "cell_type": "markdown",
   "metadata": {},
   "source": [
    "The exponentially transformed Rating data follows normal distribution. Now, let's check if there is any outlier in the transformed Rating data:"
   ]
  },
  {
   "cell_type": "code",
   "execution_count": 70,
   "metadata": {},
   "outputs": [
    {
     "data": {
      "image/png": "[encoded data removed]",
      "text/plain": [
       "<Figure size 432x288 with 1 Axes>"
      ]
     },
     "metadata": {
      "needs_background": "light"
     },
     "output_type": "display_data"
    }
   ],
   "source": [
    "new_app['Rating'].apply(np.exp).plot(kind='box')\n",
    "plt.show()"
   ]
  },
  {
   "cell_type": "markdown",
   "metadata": {},
   "source": [
    "It turned out there is indeed outlier in the transformed Rating data. We need to identify this(these) data point(s) before making decision on whether to remove the outliers. The next step is to identify the outlier. "
   ]
  },
  {
   "cell_type": "code",
   "execution_count": 71,
   "metadata": {},
   "outputs": [
    {
     "name": "stderr",
     "output_type": "stream",
     "text": [
      "C:\\Users\\Hxia\\AppData\\Local\\Continuum\\miniconda3\\lib\\site-packages\\ipykernel_launcher.py:2: SettingWithCopyWarning: \n",
      "A value is trying to be set on a copy of a slice from a DataFrame.\n",
      "Try using .loc[row_indexer,col_indexer] = value instead\n",
      "\n",
      "See the caveats in the documentation: http://pandas.pydata.org/pandas-docs/stable/indexing.html#indexing-view-versus-copy\n",
      "  \n"
     ]
    }
   ],
   "source": [
    "## Add the transformed Rating data to the dataset, and name it exp_rating.\n",
    "new_app['exp_rating']=new_app['Rating'].apply(np.exp)\n",
    "\n",
    "## Define a function to locate outliers: the theory is to find data with difference from sample mean bigger than twice\n",
    "## the standard deviation\n",
    "def locate_outliers(data,n):\n",
    "    return data[abs(data[n] - np.mean(data[n])) > 2 * np.std(data[n])]"
   ]
  },
  {
   "cell_type": "code",
   "execution_count": 72,
   "metadata": {},
   "outputs": [
    {
     "data": {
      "text/html": [
       "<div>\n",
       "<style scoped>\n",
       "    .dataframe tbody tr th:only-of-type {\n",
       "        vertical-align: middle;\n",
       "    }\n",
       "\n",
       "    .dataframe tbody tr th {\n",
       "        vertical-align: top;\n",
       "    }\n",
       "\n",
       "    .dataframe thead th {\n",
       "        text-align: right;\n",
       "    }\n",
       "</style>\n",
       "<table border=\"1\" class=\"dataframe\">\n",
       "  <thead>\n",
       "    <tr style=\"text-align: right;\">\n",
       "      <th></th>\n",
       "      <th>App</th>\n",
       "      <th>Category</th>\n",
       "      <th>Rating</th>\n",
       "      <th>Reviews</th>\n",
       "      <th>Size</th>\n",
       "      <th>Installs</th>\n",
       "      <th>Type</th>\n",
       "      <th>Price</th>\n",
       "      <th>Content Rating</th>\n",
       "      <th>Genres</th>\n",
       "      <th>Last Updated</th>\n",
       "      <th>Current Ver</th>\n",
       "      <th>Android Ver</th>\n",
       "      <th>exp_rating</th>\n",
       "    </tr>\n",
       "  </thead>\n",
       "  <tbody>\n",
       "    <tr>\n",
       "      <th>55</th>\n",
       "      <td>Tickets SDA 2018 and Exam from the State Traff...</td>\n",
       "      <td>AUTO_AND_VEHICLES</td>\n",
       "      <td>4.9</td>\n",
       "      <td>10479</td>\n",
       "      <td>33M</td>\n",
       "      <td>100,000+</td>\n",
       "      <td>Free</td>\n",
       "      <td>0</td>\n",
       "      <td>Everyone</td>\n",
       "      <td>Auto &amp; Vehicles</td>\n",
       "      <td>July 18, 2018</td>\n",
       "      <td>1.7.1</td>\n",
       "      <td>4.0 and up</td>\n",
       "      <td>134.289780</td>\n",
       "    </tr>\n",
       "    <tr>\n",
       "      <th>61</th>\n",
       "      <td>CDL Practice Test 2018 Edition</td>\n",
       "      <td>AUTO_AND_VEHICLES</td>\n",
       "      <td>4.9</td>\n",
       "      <td>7774</td>\n",
       "      <td>17M</td>\n",
       "      <td>100,000+</td>\n",
       "      <td>Free</td>\n",
       "      <td>0</td>\n",
       "      <td>Everyone</td>\n",
       "      <td>Auto &amp; Vehicles</td>\n",
       "      <td>July 3, 2018</td>\n",
       "      <td>1.7</td>\n",
       "      <td>4.2 and up</td>\n",
       "      <td>134.289780</td>\n",
       "    </tr>\n",
       "    <tr>\n",
       "      <th>64</th>\n",
       "      <td>DMV Permit Practice Test 2018 Edition</td>\n",
       "      <td>AUTO_AND_VEHICLES</td>\n",
       "      <td>4.9</td>\n",
       "      <td>6090</td>\n",
       "      <td>27M</td>\n",
       "      <td>100,000+</td>\n",
       "      <td>Free</td>\n",
       "      <td>0</td>\n",
       "      <td>Everyone</td>\n",
       "      <td>Auto &amp; Vehicles</td>\n",
       "      <td>July 3, 2018</td>\n",
       "      <td>1.7</td>\n",
       "      <td>4.2 and up</td>\n",
       "      <td>134.289780</td>\n",
       "    </tr>\n",
       "    <tr>\n",
       "      <th>79</th>\n",
       "      <td>Tickets + PDA 2018 Exam</td>\n",
       "      <td>AUTO_AND_VEHICLES</td>\n",
       "      <td>4.9</td>\n",
       "      <td>197136</td>\n",
       "      <td>38M</td>\n",
       "      <td>1,000,000+</td>\n",
       "      <td>Free</td>\n",
       "      <td>0</td>\n",
       "      <td>Everyone</td>\n",
       "      <td>Auto &amp; Vehicles</td>\n",
       "      <td>July 15, 2018</td>\n",
       "      <td>8.31</td>\n",
       "      <td>4.1 and up</td>\n",
       "      <td>134.289780</td>\n",
       "    </tr>\n",
       "    <tr>\n",
       "      <th>99</th>\n",
       "      <td>ipsy: Makeup, Beauty, and Tips</td>\n",
       "      <td>BEAUTY</td>\n",
       "      <td>4.9</td>\n",
       "      <td>49790</td>\n",
       "      <td>14M</td>\n",
       "      <td>1,000,000+</td>\n",
       "      <td>Free</td>\n",
       "      <td>0</td>\n",
       "      <td>Everyone</td>\n",
       "      <td>Beauty</td>\n",
       "      <td>November 9, 2017</td>\n",
       "      <td>2.3.0</td>\n",
       "      <td>4.1 and up</td>\n",
       "      <td>134.289780</td>\n",
       "    </tr>\n",
       "    <tr>\n",
       "      <th>177</th>\n",
       "      <td>eBoox new: Reader for fb2 epub zip books</td>\n",
       "      <td>BOOKS_AND_REFERENCE</td>\n",
       "      <td>4.9</td>\n",
       "      <td>2739</td>\n",
       "      <td>21M</td>\n",
       "      <td>50,000+</td>\n",
       "      <td>Free</td>\n",
       "      <td>0</td>\n",
       "      <td>Everyone</td>\n",
       "      <td>Books &amp; Reference</td>\n",
       "      <td>July 17, 2018</td>\n",
       "      <td>2.0</td>\n",
       "      <td>3.0 and up</td>\n",
       "      <td>134.289780</td>\n",
       "    </tr>\n",
       "    <tr>\n",
       "      <th>329</th>\n",
       "      <td>Hojiboy Tojiboyev Life Hacks</td>\n",
       "      <td>COMICS</td>\n",
       "      <td>5.0</td>\n",
       "      <td>15</td>\n",
       "      <td>37M</td>\n",
       "      <td>1,000+</td>\n",
       "      <td>Free</td>\n",
       "      <td>0</td>\n",
       "      <td>Everyone</td>\n",
       "      <td>Comics</td>\n",
       "      <td>June 26, 2018</td>\n",
       "      <td>2.0</td>\n",
       "      <td>4.0.3 and up</td>\n",
       "      <td>148.413159</td>\n",
       "    </tr>\n",
       "    <tr>\n",
       "      <th>477</th>\n",
       "      <td>Calculator</td>\n",
       "      <td>DATING</td>\n",
       "      <td>2.6</td>\n",
       "      <td>57</td>\n",
       "      <td>6.2M</td>\n",
       "      <td>1,000+</td>\n",
       "      <td>Paid</td>\n",
       "      <td>$6.99</td>\n",
       "      <td>Everyone</td>\n",
       "      <td>Dating</td>\n",
       "      <td>October 25, 2017</td>\n",
       "      <td>1.1.6</td>\n",
       "      <td>4.0 and up</td>\n",
       "      <td>13.463738</td>\n",
       "    </tr>\n",
       "    <tr>\n",
       "      <th>518</th>\n",
       "      <td>Just She - Top Lesbian Dating</td>\n",
       "      <td>DATING</td>\n",
       "      <td>1.9</td>\n",
       "      <td>953</td>\n",
       "      <td>19M</td>\n",
       "      <td>100,000+</td>\n",
       "      <td>Free</td>\n",
       "      <td>0</td>\n",
       "      <td>Mature 17+</td>\n",
       "      <td>Dating</td>\n",
       "      <td>July 18, 2018</td>\n",
       "      <td>6.3.7</td>\n",
       "      <td>5.0 and up</td>\n",
       "      <td>6.685894</td>\n",
       "    </tr>\n",
       "    <tr>\n",
       "      <th>520</th>\n",
       "      <td>EliteSingles – Dating for Single Professionals</td>\n",
       "      <td>DATING</td>\n",
       "      <td>2.5</td>\n",
       "      <td>5377</td>\n",
       "      <td>19M</td>\n",
       "      <td>500,000+</td>\n",
       "      <td>Free</td>\n",
       "      <td>0</td>\n",
       "      <td>Mature 17+</td>\n",
       "      <td>Dating</td>\n",
       "      <td>July 31, 2018</td>\n",
       "      <td>4.8.5</td>\n",
       "      <td>4.0.3 and up</td>\n",
       "      <td>12.182494</td>\n",
       "    </tr>\n",
       "  </tbody>\n",
       "</table>\n",
       "</div>"
      ],
      "text/plain": [
       "                                                   App             Category  \\\n",
       "55   Tickets SDA 2018 and Exam from the State Traff...    AUTO_AND_VEHICLES   \n",
       "61                      CDL Practice Test 2018 Edition    AUTO_AND_VEHICLES   \n",
       "64               DMV Permit Practice Test 2018 Edition    AUTO_AND_VEHICLES   \n",
       "79                             Tickets + PDA 2018 Exam    AUTO_AND_VEHICLES   \n",
       "99                      ipsy: Makeup, Beauty, and Tips               BEAUTY   \n",
       "177           eBoox new: Reader for fb2 epub zip books  BOOKS_AND_REFERENCE   \n",
       "329                       Hojiboy Tojiboyev Life Hacks               COMICS   \n",
       "477                                         Calculator               DATING   \n",
       "518                      Just She - Top Lesbian Dating               DATING   \n",
       "520     EliteSingles – Dating for Single Professionals               DATING   \n",
       "\n",
       "     Rating Reviews  Size    Installs  Type  Price Content Rating  \\\n",
       "55      4.9   10479   33M    100,000+  Free      0       Everyone   \n",
       "61      4.9    7774   17M    100,000+  Free      0       Everyone   \n",
       "64      4.9    6090   27M    100,000+  Free      0       Everyone   \n",
       "79      4.9  197136   38M  1,000,000+  Free      0       Everyone   \n",
       "99      4.9   49790   14M  1,000,000+  Free      0       Everyone   \n",
       "177     4.9    2739   21M     50,000+  Free      0       Everyone   \n",
       "329     5.0      15   37M      1,000+  Free      0       Everyone   \n",
       "477     2.6      57  6.2M      1,000+  Paid  $6.99       Everyone   \n",
       "518     1.9     953   19M    100,000+  Free      0     Mature 17+   \n",
       "520     2.5    5377   19M    500,000+  Free      0     Mature 17+   \n",
       "\n",
       "                Genres      Last Updated Current Ver   Android Ver  exp_rating  \n",
       "55     Auto & Vehicles     July 18, 2018       1.7.1    4.0 and up  134.289780  \n",
       "61     Auto & Vehicles      July 3, 2018         1.7    4.2 and up  134.289780  \n",
       "64     Auto & Vehicles      July 3, 2018         1.7    4.2 and up  134.289780  \n",
       "79     Auto & Vehicles     July 15, 2018        8.31    4.1 and up  134.289780  \n",
       "99              Beauty  November 9, 2017       2.3.0    4.1 and up  134.289780  \n",
       "177  Books & Reference     July 17, 2018         2.0    3.0 and up  134.289780  \n",
       "329             Comics     June 26, 2018         2.0  4.0.3 and up  148.413159  \n",
       "477             Dating  October 25, 2017       1.1.6    4.0 and up   13.463738  \n",
       "518             Dating     July 18, 2018       6.3.7    5.0 and up    6.685894  \n",
       "520             Dating     July 31, 2018       4.8.5  4.0.3 and up   12.182494  "
      ]
     },
     "execution_count": 72,
     "metadata": {},
     "output_type": "execute_result"
    }
   ],
   "source": [
    "locate_outliers(new_app,'exp_rating').head(10)"
   ]
  },
  {
   "cell_type": "markdown",
   "metadata": {},
   "source": [
    "As we can see from the above table, these suspected outliers dont seem to be not 'wrong' or false input. These ratings are independent from each other and without seeing the detailed review on these apps, there is no strong reason to exclude them. Next, we will locate the 'outliers' for sentiment_polarity data:"
   ]
  },
  {
   "cell_type": "code",
   "execution_count": 73,
   "metadata": {
    "scrolled": true
   },
   "outputs": [
    {
     "data": {
      "text/html": [
       "<div>\n",
       "<style scoped>\n",
       "    .dataframe tbody tr th:only-of-type {\n",
       "        vertical-align: middle;\n",
       "    }\n",
       "\n",
       "    .dataframe tbody tr th {\n",
       "        vertical-align: top;\n",
       "    }\n",
       "\n",
       "    .dataframe thead th {\n",
       "        text-align: right;\n",
       "    }\n",
       "</style>\n",
       "<table border=\"1\" class=\"dataframe\">\n",
       "  <thead>\n",
       "    <tr style=\"text-align: right;\">\n",
       "      <th></th>\n",
       "      <th>App</th>\n",
       "      <th>Translated_Review</th>\n",
       "      <th>Sentiment</th>\n",
       "      <th>Sentiment_Polarity</th>\n",
       "      <th>Sentiment_Subjectivity</th>\n",
       "    </tr>\n",
       "  </thead>\n",
       "  <tbody>\n",
       "    <tr>\n",
       "      <th>0</th>\n",
       "      <td>10 Best Foods for You</td>\n",
       "      <td>I like eat delicious food. That's I'm cooking ...</td>\n",
       "      <td>Positive</td>\n",
       "      <td>1.000000</td>\n",
       "      <td>0.533333</td>\n",
       "    </tr>\n",
       "    <tr>\n",
       "      <th>4</th>\n",
       "      <td>10 Best Foods for You</td>\n",
       "      <td>Best idea us</td>\n",
       "      <td>Positive</td>\n",
       "      <td>1.000000</td>\n",
       "      <td>0.300000</td>\n",
       "    </tr>\n",
       "    <tr>\n",
       "      <th>5</th>\n",
       "      <td>10 Best Foods for You</td>\n",
       "      <td>Best way</td>\n",
       "      <td>Positive</td>\n",
       "      <td>1.000000</td>\n",
       "      <td>0.300000</td>\n",
       "    </tr>\n",
       "    <tr>\n",
       "      <th>13</th>\n",
       "      <td>10 Best Foods for You</td>\n",
       "      <td>Greatest ever Completely awesome maintain heal...</td>\n",
       "      <td>Positive</td>\n",
       "      <td>0.992188</td>\n",
       "      <td>0.866667</td>\n",
       "    </tr>\n",
       "    <tr>\n",
       "      <th>19</th>\n",
       "      <td>10 Best Foods for You</td>\n",
       "      <td>One greatest apps.</td>\n",
       "      <td>Positive</td>\n",
       "      <td>1.000000</td>\n",
       "      <td>1.000000</td>\n",
       "    </tr>\n",
       "    <tr>\n",
       "      <th>30</th>\n",
       "      <td>10 Best Foods for You</td>\n",
       "      <td>Good.!!</td>\n",
       "      <td>Positive</td>\n",
       "      <td>1.000000</td>\n",
       "      <td>0.600000</td>\n",
       "    </tr>\n",
       "    <tr>\n",
       "      <th>36</th>\n",
       "      <td>10 Best Foods for You</td>\n",
       "      <td>Best</td>\n",
       "      <td>Positive</td>\n",
       "      <td>1.000000</td>\n",
       "      <td>0.300000</td>\n",
       "    </tr>\n",
       "    <tr>\n",
       "      <th>63</th>\n",
       "      <td>10 Best Foods for You</td>\n",
       "      <td>Wonderful</td>\n",
       "      <td>Positive</td>\n",
       "      <td>1.000000</td>\n",
       "      <td>1.000000</td>\n",
       "    </tr>\n",
       "    <tr>\n",
       "      <th>66</th>\n",
       "      <td>10 Best Foods for You</td>\n",
       "      <td>10 best foods 4u Excellent chose foods</td>\n",
       "      <td>Positive</td>\n",
       "      <td>1.000000</td>\n",
       "      <td>0.650000</td>\n",
       "    </tr>\n",
       "    <tr>\n",
       "      <th>69</th>\n",
       "      <td>10 Best Foods for You</td>\n",
       "      <td>Best food Thank you recipe book</td>\n",
       "      <td>Positive</td>\n",
       "      <td>1.000000</td>\n",
       "      <td>0.300000</td>\n",
       "    </tr>\n",
       "  </tbody>\n",
       "</table>\n",
       "</div>"
      ],
      "text/plain": [
       "                      App                                  Translated_Review  \\\n",
       "0   10 Best Foods for You  I like eat delicious food. That's I'm cooking ...   \n",
       "4   10 Best Foods for You                                       Best idea us   \n",
       "5   10 Best Foods for You                                           Best way   \n",
       "13  10 Best Foods for You  Greatest ever Completely awesome maintain heal...   \n",
       "19  10 Best Foods for You                                 One greatest apps.   \n",
       "30  10 Best Foods for You                                            Good.!!   \n",
       "36  10 Best Foods for You                                               Best   \n",
       "63  10 Best Foods for You                                          Wonderful   \n",
       "66  10 Best Foods for You             10 best foods 4u Excellent chose foods   \n",
       "69  10 Best Foods for You                    Best food Thank you recipe book   \n",
       "\n",
       "   Sentiment  Sentiment_Polarity  Sentiment_Subjectivity  \n",
       "0   Positive            1.000000                0.533333  \n",
       "4   Positive            1.000000                0.300000  \n",
       "5   Positive            1.000000                0.300000  \n",
       "13  Positive            0.992188                0.866667  \n",
       "19  Positive            1.000000                1.000000  \n",
       "30  Positive            1.000000                0.600000  \n",
       "36  Positive            1.000000                0.300000  \n",
       "63  Positive            1.000000                1.000000  \n",
       "66  Positive            1.000000                0.650000  \n",
       "69  Positive            1.000000                0.300000  "
      ]
     },
     "execution_count": 73,
     "metadata": {},
     "output_type": "execute_result"
    }
   ],
   "source": [
    "locate_outliers(new_rev,'Sentiment_Polarity').head(10)"
   ]
  },
  {
   "cell_type": "markdown",
   "metadata": {},
   "source": [
    "Again, these polarity ratings seem valid, and there is no strong reason to exclude them. Therefore, the detected outliers in App rating and sentiment polarity data will not be excluded in further analysis."
   ]
  },
  {
   "cell_type": "code",
   "execution_count": null,
   "metadata": {},
   "outputs": [],
   "source": []
  },
  {
   "cell_type": "code",
   "execution_count": null,
   "metadata": {},
   "outputs": [],
   "source": []
  }
 ],
 "metadata": {
  "kernelspec": {
   "display_name": "Python 3",
   "language": "python",
   "name": "python3"
  },
  "language_info": {
   "codemirror_mode": {
    "name": "ipython",
    "version": 3
   },
   "file_extension": ".py",
   "mimetype": "text/x-python",
   "name": "python",
   "nbconvert_exporter": "python",
   "pygments_lexer": "ipython3",
   "version": "3.7.0"
  }
 },
 "nbformat": 4,
 "nbformat_minor": 2
}
